{
 "cells": [
  {
   "cell_type": "code",
   "execution_count": 24,
   "id": "426289cb-2ca4-4553-b18a-309200f90ff9",
   "metadata": {},
   "outputs": [
    {
     "name": "stdout",
     "output_type": "stream",
     "text": [
      "Overwriting test_quartic.cpp\n"
     ]
    }
   ],
   "source": [
    "%%writefile test_quartic.cpp\n",
    "#include <iostream>\n",
    "#include <cmath>\n",
    "#include <vector>\n",
    "#include <algorithm>\n",
    "using namespace std;\n",
    "\n",
    "const double tol = 1e-9;\n",
    "\n",
    "bool double_equal(double a, double b) {\n",
    "    return fabs(a - b) < tol;\n",
    "}\n",
    "\n",
    "int solveQuartic(double a, double b, double c, double x[]) {\n",
    "    if (a == 0 && b == 0 && c == 0) {\n",
    "        return -1;\n",
    "    }\n",
    "    if (a == 0 && b == 0) {\n",
    "        return 0;\n",
    "    }\n",
    "    if (a == 0) {\n",
    "        double y = -c / b;\n",
    "        if (y < 0) return 0;\n",
    "        x[0] = sqrt(y);\n",
    "        x[1] = -sqrt(y);\n",
    "        return 2;\n",
    "    }\n",
    "    double delta = b * b - 4 * a * c;\n",
    "    if (delta < 0) return 0;\n",
    "    double y1 = (-b + sqrt(delta)) / (2 * a);\n",
    "    double y2 = (-b - sqrt(delta)) / (2 * a);\n",
    "    int count = 0;\n",
    "    if (y1 >= 0) {\n",
    "        x[count++] = sqrt(y1);\n",
    "        x[count++] = -sqrt(y1);\n",
    "    }\n",
    "    if (y2 >= 0 && y2 != y1) {\n",
    "        x[count++] = sqrt(y2);\n",
    "        x[count++] = -sqrt(y2);\n",
    "    }\n",
    "    return count;\n",
    "}\n",
    "\n",
    "struct TestCase {\n",
    "    double a, b, c;\n",
    "    int expected_n;\n",
    "    vector<double> expected_solutions;\n",
    "};\n",
    "\n",
    "vector<TestCase> test_cases = {\n",
    "    {0, 0, 0, -1, {}},\n",
    "    {0, 0, 1, 0, {}},\n",
    "    {0, 2, -4, 2, {sqrt(2), -sqrt(2)}},\n",
    "    {0, 2, 4, 0, {}},\n",
    "    {1, -5, 6, 4, {sqrt(3), -sqrt(3), sqrt(2), -sqrt(2)}},\n",
    "    {1, 0, 0, 2, {0, 0}},\n",
    "    {1, 0, -4, 2, {2, -2}},\n",
    "    {1, 0, 4, 0, {}},\n",
    "    {1, 3, 2, 0, {}},\n",
    "    {1, -3, 2, 4, {1, -1, sqrt(2), -sqrt(2)}},\n",
    "    {1, -4, 4, 2, {sqrt(2), -sqrt(2)}},\n",
    "    {1, -5, 0, 4, {0, 0, sqrt(5), -sqrt(5)}}\n",
    "};\n",
    "\n",
    "int main() {\n",
    "    int passed = 0;\n",
    "    for (int i = 0; i < test_cases.size(); i++) {\n",
    "        TestCase tc = test_cases[i];\n",
    "        double x[4];\n",
    "        int n = solveQuartic(tc.a, tc.b, tc.c, x);\n",
    "        if (n != tc.expected_n) {\n",
    "            cout << \"Test case \" << i+1 << \" failed: expected \" << tc.expected_n << \" solutions, got \" << n << endl;\n",
    "            continue;\n",
    "        }\n",
    "        if (n == -1) {\n",
    "            cout << \"Test case \" << i+1 << \" passed.\" << endl;\n",
    "            passed++;\n",
    "            continue;\n",
    "        }\n",
    "        if (n == 0) {\n",
    "            cout << \"Test case \" << i+1 << \" passed.\" << endl;\n",
    "            passed++;\n",
    "            continue;\n",
    "        }\n",
    "        vector<double> actual_solutions(x, x + n);\n",
    "        vector<double> expected_solutions = tc.expected_solutions;\n",
    "        sort(actual_solutions.begin(), actual_solutions.end());\n",
    "        sort(expected_solutions.begin(), expected_solutions.end());\n",
    "        bool match = true;\n",
    "        for (int j = 0; j < n; j++) {\n",
    "            if (!double_equal(actual_solutions[j], expected_solutions[j])) {\n",
    "                match = false;\n",
    "                cout << \"Test case \" << i+1 << \" failed: solution \" << j << \" expected \" << expected_solutions[j] << \", got \" << actual_solutions[j] << endl;\n",
    "                break;\n",
    "            }\n",
    "        }\n",
    "        if (match) {\n",
    "            cout << \"Test case \" << i+1 << \" passed.\" << endl;\n",
    "            passed++;\n",
    "        }\n",
    "    }\n",
    "    cout << \"Passed \" << passed << \" out of \" << test_cases.size() << \" test cases.\" << endl;\n",
    "    return 0;\n",
    "}"
   ]
  },
  {
   "cell_type": "code",
   "execution_count": 26,
   "id": "64f5225c-efd3-4d40-80ec-b1195697e70b",
   "metadata": {},
   "outputs": [
    {
     "name": "stderr",
     "output_type": "stream",
     "text": [
      "test_quartic.cpp:62:1: error: in C++98 'test_cases' must be initialized by constructor, not by '{...}'\n",
      " };\n",
      " ^\n",
      "test_quartic.cpp: In substitution of 'template<class _InputIterator> std::vector<_Tp, _Alloc>::vector(_InputIterator, _InputIterator, const allocator_type&) [with _InputIterator = <missing>]':\n",
      "test_quartic.cpp:62:1:   required from here\n",
      "test_quartic.cpp:62:1: warning: extended initializer lists only available with -std=c++11 or -std=gnu++11\n",
      "test_quartic.cpp:62:1: error: could not convert '{{0, 0, 0, -1, <brace-enclosed initializer list>()}, {0, 0, 1, 0, <brace-enclosed initializer list>()}, {0, 2, -4, 2, {std::sqrt<int>(2), (- std::sqrt<int>(2))}}, {0, 2, 4, 0, <brace-enclosed initializer list>()}, {1, -5, 6, 4, {std::sqrt<int>(3), (- std::sqrt<int>(3)), std::sqrt<int>(2), (- std::sqrt<int>(2))}}, {1, 0, 0, 2, {0, 0}}, {1, 0, -4, 2, {2, -2}}, {1, 0, 4, 0, <brace-enclosed initializer list>()}, {1, 3, 2, 0, <brace-enclosed initializer list>()}, {1, -3, 2, 4, {1, -1, std::sqrt<int>(2), (- std::sqrt<int>(2))}}, {1, -4, 4, 2, {std::sqrt<int>(2), (- std::sqrt<int>(2))}}, {1, -5, 0, 4, {0, 0, std::sqrt<int>(5), (- std::sqrt<int>(5))}}}' from '<brace-enclosed initializer list>' to 'std::vector<TestCase>'\n"
     ]
    }
   ],
   "source": [
    "!g++ -o test_quartic test_quartic.cpp -lm"
   ]
  },
  {
   "cell_type": "code",
   "execution_count": null,
   "id": "73ef5195-b0c4-4042-b5af-121c9b310fbf",
   "metadata": {},
   "outputs": [],
   "source": [
    "!./test_quartic"
   ]
  }
 ],
 "metadata": {
  "kernelspec": {
   "display_name": "Python [conda env:base] *",
   "language": "python",
   "name": "conda-base-py"
  },
  "language_info": {
   "codemirror_mode": {
    "name": "ipython",
    "version": 3
   },
   "file_extension": ".py",
   "mimetype": "text/x-python",
   "name": "python",
   "nbconvert_exporter": "python",
   "pygments_lexer": "ipython3",
   "version": "3.12.7"
  }
 },
 "nbformat": 4,
 "nbformat_minor": 5
}
